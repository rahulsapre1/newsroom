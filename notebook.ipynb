{
 "cells": [
  {
   "cell_type": "markdown",
   "metadata": {},
   "source": [
    "# Daily News Summarizer\n",
    "\n",
    "This notebook implements a simple news summarization app that:\n",
    "1. Asks for a topic of interest\n",
    "2. Searches for recent news using SerpAPI\n",
    "3. Summarizes the findings using LiteLLM\n",
    "4. Presents the top 3 important items to know"
   ]
  },
  {
   "cell_type": "markdown",
   "metadata": {},
   "source": [
    "## 1. Install Required Dependencies"
   ]
  },
  {
   "cell_type": "code",
   "execution_count": 38,
   "metadata": {},
   "outputs": [
    {
     "name": "stderr",
     "output_type": "stream",
     "text": [
      "5972.75s - pydevd: Sending message related to process being replaced timed-out after 5 seconds\n"
     ]
    },
    {
     "name": "stdout",
     "output_type": "stream",
     "text": [
      "Requirement already satisfied: google-search-results in ./.news_env/lib/python3.13/site-packages (2.4.2)\n",
      "Requirement already satisfied: litellm in ./.news_env/lib/python3.13/site-packages (1.69.0)\n",
      "Requirement already satisfied: requests in ./.news_env/lib/python3.13/site-packages (2.32.3)\n",
      "Requirement already satisfied: beautifulsoup4 in ./.news_env/lib/python3.13/site-packages (4.13.4)\n",
      "Requirement already satisfied: aiohttp in ./.news_env/lib/python3.13/site-packages (from litellm) (3.11.18)\n",
      "Requirement already satisfied: click in ./.news_env/lib/python3.13/site-packages (from litellm) (8.2.0)\n",
      "Requirement already satisfied: httpx>=0.23.0 in ./.news_env/lib/python3.13/site-packages (from litellm) (0.28.1)\n",
      "Requirement already satisfied: importlib-metadata>=6.8.0 in ./.news_env/lib/python3.13/site-packages (from litellm) (8.7.0)\n",
      "Requirement already satisfied: jinja2<4.0.0,>=3.1.2 in ./.news_env/lib/python3.13/site-packages (from litellm) (3.1.6)\n",
      "Requirement already satisfied: jsonschema<5.0.0,>=4.22.0 in ./.news_env/lib/python3.13/site-packages (from litellm) (4.23.0)\n",
      "Requirement already satisfied: openai<1.76.0,>=1.68.2 in ./.news_env/lib/python3.13/site-packages (from litellm) (1.75.0)\n",
      "Requirement already satisfied: pydantic<3.0.0,>=2.0.0 in ./.news_env/lib/python3.13/site-packages (from litellm) (2.11.4)\n",
      "Requirement already satisfied: python-dotenv>=0.2.0 in ./.news_env/lib/python3.13/site-packages (from litellm) (1.1.0)\n",
      "Requirement already satisfied: tiktoken>=0.7.0 in ./.news_env/lib/python3.13/site-packages (from litellm) (0.9.0)\n",
      "Requirement already satisfied: tokenizers in ./.news_env/lib/python3.13/site-packages (from litellm) (0.21.1)\n",
      "Requirement already satisfied: charset-normalizer<4,>=2 in ./.news_env/lib/python3.13/site-packages (from requests) (3.4.2)\n",
      "Requirement already satisfied: idna<4,>=2.5 in ./.news_env/lib/python3.13/site-packages (from requests) (3.10)\n",
      "Requirement already satisfied: urllib3<3,>=1.21.1 in ./.news_env/lib/python3.13/site-packages (from requests) (2.4.0)\n",
      "Requirement already satisfied: certifi>=2017.4.17 in ./.news_env/lib/python3.13/site-packages (from requests) (2025.4.26)\n",
      "Requirement already satisfied: soupsieve>1.2 in ./.news_env/lib/python3.13/site-packages (from beautifulsoup4) (2.7)\n",
      "Requirement already satisfied: typing-extensions>=4.0.0 in ./.news_env/lib/python3.13/site-packages (from beautifulsoup4) (4.13.2)\n",
      "Requirement already satisfied: anyio in ./.news_env/lib/python3.13/site-packages (from httpx>=0.23.0->litellm) (4.9.0)\n",
      "Requirement already satisfied: httpcore==1.* in ./.news_env/lib/python3.13/site-packages (from httpx>=0.23.0->litellm) (1.0.9)\n",
      "Requirement already satisfied: h11>=0.16 in ./.news_env/lib/python3.13/site-packages (from httpcore==1.*->httpx>=0.23.0->litellm) (0.16.0)\n",
      "Requirement already satisfied: zipp>=3.20 in ./.news_env/lib/python3.13/site-packages (from importlib-metadata>=6.8.0->litellm) (3.21.0)\n",
      "Requirement already satisfied: MarkupSafe>=2.0 in ./.news_env/lib/python3.13/site-packages (from jinja2<4.0.0,>=3.1.2->litellm) (3.0.2)\n",
      "Requirement already satisfied: attrs>=22.2.0 in ./.news_env/lib/python3.13/site-packages (from jsonschema<5.0.0,>=4.22.0->litellm) (25.3.0)\n",
      "Requirement already satisfied: jsonschema-specifications>=2023.03.6 in ./.news_env/lib/python3.13/site-packages (from jsonschema<5.0.0,>=4.22.0->litellm) (2025.4.1)\n",
      "Requirement already satisfied: referencing>=0.28.4 in ./.news_env/lib/python3.13/site-packages (from jsonschema<5.0.0,>=4.22.0->litellm) (0.36.2)\n",
      "Requirement already satisfied: rpds-py>=0.7.1 in ./.news_env/lib/python3.13/site-packages (from jsonschema<5.0.0,>=4.22.0->litellm) (0.24.0)\n",
      "Requirement already satisfied: distro<2,>=1.7.0 in ./.news_env/lib/python3.13/site-packages (from openai<1.76.0,>=1.68.2->litellm) (1.9.0)\n",
      "Requirement already satisfied: jiter<1,>=0.4.0 in ./.news_env/lib/python3.13/site-packages (from openai<1.76.0,>=1.68.2->litellm) (0.9.0)\n",
      "Requirement already satisfied: sniffio in ./.news_env/lib/python3.13/site-packages (from openai<1.76.0,>=1.68.2->litellm) (1.3.1)\n",
      "Requirement already satisfied: tqdm>4 in ./.news_env/lib/python3.13/site-packages (from openai<1.76.0,>=1.68.2->litellm) (4.67.1)\n",
      "Requirement already satisfied: annotated-types>=0.6.0 in ./.news_env/lib/python3.13/site-packages (from pydantic<3.0.0,>=2.0.0->litellm) (0.7.0)\n",
      "Requirement already satisfied: pydantic-core==2.33.2 in ./.news_env/lib/python3.13/site-packages (from pydantic<3.0.0,>=2.0.0->litellm) (2.33.2)\n",
      "Requirement already satisfied: typing-inspection>=0.4.0 in ./.news_env/lib/python3.13/site-packages (from pydantic<3.0.0,>=2.0.0->litellm) (0.4.0)\n",
      "Requirement already satisfied: regex>=2022.1.18 in ./.news_env/lib/python3.13/site-packages (from tiktoken>=0.7.0->litellm) (2024.11.6)\n",
      "Requirement already satisfied: aiohappyeyeballs>=2.3.0 in ./.news_env/lib/python3.13/site-packages (from aiohttp->litellm) (2.6.1)\n",
      "Requirement already satisfied: aiosignal>=1.1.2 in ./.news_env/lib/python3.13/site-packages (from aiohttp->litellm) (1.3.2)\n",
      "Requirement already satisfied: frozenlist>=1.1.1 in ./.news_env/lib/python3.13/site-packages (from aiohttp->litellm) (1.6.0)\n",
      "Requirement already satisfied: multidict<7.0,>=4.5 in ./.news_env/lib/python3.13/site-packages (from aiohttp->litellm) (6.4.3)\n",
      "Requirement already satisfied: propcache>=0.2.0 in ./.news_env/lib/python3.13/site-packages (from aiohttp->litellm) (0.3.1)\n",
      "Requirement already satisfied: yarl<2.0,>=1.17.0 in ./.news_env/lib/python3.13/site-packages (from aiohttp->litellm) (1.20.0)\n",
      "Requirement already satisfied: huggingface-hub<1.0,>=0.16.4 in ./.news_env/lib/python3.13/site-packages (from tokenizers->litellm) (0.31.1)\n",
      "Requirement already satisfied: filelock in ./.news_env/lib/python3.13/site-packages (from huggingface-hub<1.0,>=0.16.4->tokenizers->litellm) (3.18.0)\n",
      "Requirement already satisfied: fsspec>=2023.5.0 in ./.news_env/lib/python3.13/site-packages (from huggingface-hub<1.0,>=0.16.4->tokenizers->litellm) (2025.3.2)\n",
      "Requirement already satisfied: packaging>=20.9 in ./.news_env/lib/python3.13/site-packages (from huggingface-hub<1.0,>=0.16.4->tokenizers->litellm) (25.0)\n",
      "Requirement already satisfied: pyyaml>=5.1 in ./.news_env/lib/python3.13/site-packages (from huggingface-hub<1.0,>=0.16.4->tokenizers->litellm) (6.0.2)\n",
      "Requirement already satisfied: hf-xet<2.0.0,>=1.1.0 in ./.news_env/lib/python3.13/site-packages (from huggingface-hub<1.0,>=0.16.4->tokenizers->litellm) (1.1.0)\n",
      "\n",
      "\u001b[1m[\u001b[0m\u001b[34;49mnotice\u001b[0m\u001b[1;39;49m]\u001b[0m\u001b[39;49m A new release of pip is available: \u001b[0m\u001b[31;49m25.0.1\u001b[0m\u001b[39;49m -> \u001b[0m\u001b[32;49m25.1.1\u001b[0m\n",
      "\u001b[1m[\u001b[0m\u001b[34;49mnotice\u001b[0m\u001b[1;39;49m]\u001b[0m\u001b[39;49m To update, run: \u001b[0m\u001b[32;49mpip install --upgrade pip\u001b[0m\n",
      "Note: you may need to restart the kernel to use updated packages.\n"
     ]
    }
   ],
   "source": [
    "# Install required packages\n",
    "%pip install google-search-results litellm requests beautifulsoup4"
   ]
  },
  {
   "cell_type": "markdown",
   "metadata": {},
   "source": [
    "## 2. Import Libraries"
   ]
  },
  {
   "cell_type": "code",
   "execution_count": 39,
   "metadata": {},
   "outputs": [],
   "source": [
    "import os\n",
    "import time\n",
    "from datetime import datetime, timedelta\n",
    "import requests\n",
    "from bs4 import BeautifulSoup\n",
    "from serpapi import GoogleSearch\n",
    "import litellm"
   ]
  },
  {
   "cell_type": "markdown",
   "metadata": {},
   "source": [
    "## 3. Configure API Keys"
   ]
  },
  {
   "cell_type": "code",
   "execution_count": 40,
   "metadata": {},
   "outputs": [],
   "source": [
    "from dotenv import load_dotenv\n",
    "\n",
    "# Load environment variables from .env file\n",
    "load_dotenv()\n",
    "\n",
    "# Get API keys from environment variables\n",
    "SERPAPI_KEY = os.getenv('SERP_AI_API_KEY')\n",
    "OPENAI_API_KEY = os.getenv('OPENAI_API_KEY')\n",
    "\n",
    "if not SERPAPI_KEY or not OPENAI_API_KEY:\n",
    "    raise ValueError(\"API keys not found in .env file. Please check your .env file configuration.\")\n",
    "\n",
    "os.environ[\"OPENAI_API_KEY\"] = OPENAI_API_KEY"
   ]
  },
  {
   "cell_type": "markdown",
   "metadata": {},
   "source": [
    "## 4. Get User Input"
   ]
  },
  {
   "cell_type": "code",
   "execution_count": 41,
   "metadata": {},
   "outputs": [],
   "source": [
    "def get_topic():\n",
    "    \"\"\"Ask the user for a news topic to search for\"\"\"\n",
    "    topic = input(\"Enter a topic to get news about: \")\n",
    "    return topic"
   ]
  },
  {
   "cell_type": "markdown",
   "metadata": {},
   "source": [
    "## 5. Search for News"
   ]
  },
  {
   "cell_type": "code",
   "execution_count": 42,
   "metadata": {},
   "outputs": [],
   "source": [
    "def search_news(topic):\n",
    "    \"\"\"Search for news articles on the given topic using SerpAPI\"\"\"\n",
    "    print(f\"Searching for news about '{topic}'...\")\n",
    "    \n",
    "    # Calculate date for last 24 hours\n",
    "    yesterday = datetime.now() - timedelta(days=1)\n",
    "    date_str = yesterday.strftime(\"%Y-%m-%d\")\n",
    "    \n",
    "    # Set up the search parameters\n",
    "    params = {\n",
    "        \"engine\": \"google_news\",\n",
    "        \"q\": topic,\n",
    "        \"tbm\": \"nws\",\n",
    "        \"tbs\": f\"cdr:1,cd_min:{date_str},cd_max:today\",\n",
    "        \"num\": 10,  # Get top 10 results\n",
    "        \"api_key\": SERPAPI_KEY\n",
    "    }\n",
    "    \n",
    "    # Execute the search\n",
    "    search = GoogleSearch(params)\n",
    "    results = search.get_dict()\n",
    "    \n",
    "    # Check if we have news results\n",
    "    if \"news_results\" not in results:\n",
    "        print(\"No news found for this topic in the last 24 hours.\")\n",
    "        return []\n",
    "    \n",
    "    return results[\"news_results\"]"
   ]
  },
  {
   "cell_type": "markdown",
   "metadata": {},
   "source": [
    "## 6. Extract Article Content"
   ]
  },
  {
   "cell_type": "code",
   "execution_count": 43,
   "metadata": {},
   "outputs": [],
   "source": [
    "def extract_article_content(url):\n",
    "    \"\"\"Extract the main text content from a news article URL\"\"\"\n",
    "    try:\n",
    "        headers = {\n",
    "            \"User-Agent\": \"Mozilla/5.0 (Windows NT 10.0; Win64; x64) AppleWebKit/537.36 (KHTML, like Gecko) Chrome/91.0.4472.124 Safari/537.36\"\n",
    "        }\n",
    "        response = requests.get(url, headers=headers, timeout=10)\n",
    "        soup = BeautifulSoup(response.content, 'html.parser')\n",
    "        \n",
    "        # Remove script and style elements\n",
    "        for script in soup([\"script\", \"style\", \"nav\", \"footer\", \"header\"]):\n",
    "            script.extract()\n",
    "        \n",
    "        # Get text\n",
    "        text = soup.get_text(separator=' ', strip=True)\n",
    "        \n",
    "        # Clean up text (remove extra whitespace)\n",
    "        lines = (line.strip() for line in text.splitlines())\n",
    "        chunks = (phrase.strip() for line in lines for phrase in line.split(\"  \"))\n",
    "        text = ' '.join(chunk for chunk in chunks if chunk)\n",
    "        \n",
    "        # Limit text length for API constraints\n",
    "        return text[:4000]  # Limit to 4000 chars to avoid token limits\n",
    "    except Exception as e:\n",
    "        print(f\"Error extracting content from {url}: {e}\")\n",
    "        return \"\""
   ]
  },
  {
   "cell_type": "markdown",
   "metadata": {},
   "source": [
    "## 7. Summarize News with LiteLLM"
   ]
  },
  {
   "cell_type": "code",
   "execution_count": 44,
   "metadata": {},
   "outputs": [],
   "source": [
    "def summarize_news(articles):\n",
    "    \"\"\"Summarize the news articles using LiteLLM\"\"\"\n",
    "    if not articles:\n",
    "        return \"No news articles found to summarize.\"\n",
    "    \n",
    "    print(\"Collecting and summarizing news articles...\")\n",
    "    \n",
    "    # Prepare context for the LLM\n",
    "    article_texts = []\n",
    "    for i, article in enumerate(articles[:5]):  # Process top 5 articles\n",
    "        title = article.get(\"title\", \"No title\")\n",
    "        source = article.get(\"source\", \"Unknown source\")\n",
    "        link = article.get(\"link\", \"\")\n",
    "        snippet = article.get(\"snippet\", \"\")\n",
    "        \n",
    "        print(f\"Processing article {i+1}: {title}\")\n",
    "        \n",
    "        # Get full content if possible\n",
    "        content = extract_article_content(link)\n",
    "        if not content:\n",
    "            content = snippet  # Fall back to snippet if extraction fails\n",
    "            \n",
    "        article_texts.append(f\"ARTICLE {i+1}:\\nTitle: {title}\\nSource: {source}\\nContent: {content}\\n\")\n",
    "    \n",
    "    # Combine all articles\n",
    "    all_articles = \"\\n\\n\".join(article_texts)\n",
    "    \n",
    "    # Create prompt for the LLM\n",
    "    prompt = f\"\"\"Based on the following news articles, provide a concise summary highlighting the 3 most important things someone should know about this topic and why they matter. Format your response as a numbered list (1, 2, 3) with a brief explanation for each point.\\n\\n{all_articles}\"\"\"\n",
    "    \n",
    "    # Call LiteLLM to summarize\n",
    "    try:\n",
    "        response = litellm.completion(\n",
    "            model=\"gpt-4o\",  # You can change this to another model\n",
    "            messages=[{\"role\": \"user\", \"content\": prompt}],\n",
    "            temperature=0.3,\n",
    "            max_tokens=1000\n",
    "        )\n",
    "        return response.choices[0].message.content\n",
    "    except Exception as e:\n",
    "        print(f\"Error in LLM summarization: {e}\")\n",
    "        return \"Error generating summary. Please check your API keys and try again.\""
   ]
  },
  {
   "cell_type": "markdown",
   "metadata": {},
   "source": [
    "## 8. Main Function"
   ]
  },
  {
   "cell_type": "code",
   "execution_count": 45,
   "metadata": {},
   "outputs": [],
   "source": [
    "def get_daily_news():\n",
    "    \"\"\"Main function to run the news summarizer\"\"\"\n",
    "    # Get topic from user\n",
    "    topic = get_topic()\n",
    "    \n",
    "    # Search for news\n",
    "    articles = search_news(topic)\n",
    "    \n",
    "    if not articles:\n",
    "        return \"No news found for this topic in the last 24 hours.\"\n",
    "    \n",
    "    # Summarize the news\n",
    "    summary = summarize_news(articles)\n",
    "    \n",
    "    print(\"\\n\" + \"=\"*50)\n",
    "    print(f\"TOP NEWS SUMMARY FOR: {topic.upper()}\")\n",
    "    print(\"=\"*50)\n",
    "    print(summary)\n",
    "    print(\"=\"*50)\n",
    "    \n",
    "    return summary"
   ]
  },
  {
   "cell_type": "markdown",
   "metadata": {},
   "source": [
    "## 9. Run the News Summarizer\n"
   ]
  },
  {
   "cell_type": "code",
   "execution_count": 46,
   "metadata": {},
   "outputs": [
    {
     "name": "stdout",
     "output_type": "stream",
     "text": [
      "Searching for news about 'India vs Pakistan'...\n",
      "Collecting and summarizing news articles...\n",
      "Processing article 1: News about ceasefire • India • Pakistan\n",
      "Error extracting content from : Invalid URL '': No scheme supplied. Perhaps you meant https://?\n",
      "Processing article 2: In-depth\n",
      "Error extracting content from : Invalid URL '': No scheme supplied. Perhaps you meant https://?\n",
      "Processing article 3: For context\n",
      "Error extracting content from : Invalid URL '': No scheme supplied. Perhaps you meant https://?\n",
      "Processing article 4: India-Pakistan truce appears to hold despite accusations of violations\n",
      "Processing article 5: At least two Indian jets appear to have crashed during Pakistan strikes, visuals show\n",
      "Error extracting content from https://www.washingtonpost.com/world/2025/05/09/fighter-jets-india-pakistan-attack/: HTTPSConnectionPool(host='www.washingtonpost.com', port=443): Read timed out. (read timeout=10)\n",
      "\n",
      "==================================================\n",
      "TOP NEWS SUMMARY FOR: INDIA VS PAKISTAN\n",
      "==================================================\n",
      "Based on the provided articles, here are the three most important points regarding the India-Pakistan ceasefire:\n",
      "\n",
      "1. **Ceasefire Holding Amid Accusations**: Despite initial accusations of violations, the ceasefire between India and Pakistan appears to be holding. This is significant as it suggests a temporary de-escalation of tensions in the region, which has historically been a flashpoint for conflict between the two nuclear-armed neighbors. The stability of this truce is crucial for regional peace and security.\n",
      "\n",
      "2. **US Mediation Role**: The ceasefire was reportedly facilitated by overnight diplomacy involving the United States, with President Trump claiming a role in securing the agreement. This highlights the influence and involvement of international actors in regional conflicts, emphasizing the global implications of the India-Pakistan tensions and the importance of diplomatic interventions in conflict resolution.\n",
      "\n",
      "3. **Underlying Tensions and Skepticism**: The ceasefire follows heightened tensions due to a massacre in Indian-controlled Kashmir, for which India blamed Pakistan. Despite the truce, skepticism remains high, particularly among locals in conflict zones, about its longevity. This underscores the deep-rooted mistrust and historical grievances that continue to challenge peace efforts between India and Pakistan, making long-term resolution complex and uncertain.\n",
      "==================================================\n"
     ]
    },
    {
     "data": {
      "text/plain": [
       "'Based on the provided articles, here are the three most important points regarding the India-Pakistan ceasefire:\\n\\n1. **Ceasefire Holding Amid Accusations**: Despite initial accusations of violations, the ceasefire between India and Pakistan appears to be holding. This is significant as it suggests a temporary de-escalation of tensions in the region, which has historically been a flashpoint for conflict between the two nuclear-armed neighbors. The stability of this truce is crucial for regional peace and security.\\n\\n2. **US Mediation Role**: The ceasefire was reportedly facilitated by overnight diplomacy involving the United States, with President Trump claiming a role in securing the agreement. This highlights the influence and involvement of international actors in regional conflicts, emphasizing the global implications of the India-Pakistan tensions and the importance of diplomatic interventions in conflict resolution.\\n\\n3. **Underlying Tensions and Skepticism**: The ceasefire follows heightened tensions due to a massacre in Indian-controlled Kashmir, for which India blamed Pakistan. Despite the truce, skepticism remains high, particularly among locals in conflict zones, about its longevity. This underscores the deep-rooted mistrust and historical grievances that continue to challenge peace efforts between India and Pakistan, making long-term resolution complex and uncertain.'"
      ]
     },
     "execution_count": 46,
     "metadata": {},
     "output_type": "execute_result"
    }
   ],
   "source": [
    "# Run the news summarizer\n",
    "get_daily_news()"
   ]
  }
 ],
 "metadata": {
  "kernelspec": {
   "display_name": ".news_env",
   "language": "python",
   "name": "python3"
  },
  "language_info": {
   "codemirror_mode": {
    "name": "ipython",
    "version": 3
   },
   "file_extension": ".py",
   "mimetype": "text/x-python",
   "name": "python",
   "nbconvert_exporter": "python",
   "pygments_lexer": "ipython3",
   "version": "3.13.3"
  }
 },
 "nbformat": 4,
 "nbformat_minor": 2
}
